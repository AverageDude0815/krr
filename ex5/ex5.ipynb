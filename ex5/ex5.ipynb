{
 "cells": [
  {
   "cell_type": "code",
   "execution_count": 1,
   "metadata": {},
   "outputs": [],
   "source": [
    "### DO NOT CHANGE THIS CELL\n",
    "\n",
    "%matplotlib inline\n",
    "import networkx as nx\n",
    "import matplotlib.pyplot as plt\n",
    "\n",
    "import clingo\n",
    "from IPython.display import clear_output"
   ]
  },
  {
   "cell_type": "code",
   "execution_count": 2,
   "metadata": {},
   "outputs": [],
   "source": [
    "def print_answer_sets(program):\n",
    "    # Load the answer set program, and call the grounder\n",
    "    control = clingo.Control()\n",
    "    control.add(\"base\", [], program)\n",
    "    control.ground([(\"base\", [])])\n",
    "    # Define a function that will be called when an answer set is found\n",
    "    # This function sorts the answer set alphabetically, and prints it\n",
    "    def on_model(model):\n",
    "        sorted_model = [str(atom) for atom in model.symbols(shown=True)]\n",
    "        sorted_model.sort()\n",
    "        print(\"Answer set: {{{}}}\".format(\", \".join(sorted_model)))\n",
    "    # Ask clingo to find all models (using an upper bound of 0 gives all models)\n",
    "    control.configuration.solve.models = 0\n",
    "    # Call the clingo solver, passing on the function on_model for when an answer set is found\n",
    "    answer = control.solve(on_model=on_model)\n",
    "    # Print a message when no answer set was found\n",
    "    if answer.satisfiable == False:\n",
    "        print(\"No answer sets\")"
   ]
  },
  {
   "cell_type": "code",
   "execution_count": 3,
   "metadata": {
    "scrolled": true
   },
   "outputs": [
    {
     "name": "stdout",
     "output_type": "stream",
     "text": [
      "Answer set: {do(1,transfer(3,1)), do(10,transfer(5,8)), do(11,transfer(2,9)), do(12,transfer(1,6)), do(13,transfer(7,3)), do(14,transfer(8,2)), do(15,transfer(5,5)), do(16,transfer(6,8)), do(17,transfer(4,7)), do(18,transfer(3,4)), do(19,transfer(8,1)), do(2,transfer(4,4)), do(20,transfer(5,2)), do(21,transfer(6,5)), do(22,transfer(4,8)), do(23,transfer(3,7)), do(24,transfer(6,4)), do(25,transfer(4,5)), do(26,transfer(2,8)), do(27,transfer(1,9)), do(28,transfer(4,6)), do(29,transfer(5,5)), do(3,transfer(7,5)), do(30,transfer(8,2)), do(4,transfer(8,8)), do(5,transfer(5,9)), do(6,transfer(2,6)), do(7,transfer(1,3)), do(8,transfer(7,2)), do(9,transfer(8,5))}\n"
     ]
    }
   ],
   "source": [
    "### NO NEED TO CHANGE THIS CELL\n",
    "### (UNLESS YOU WANT TO SET A SOLVING TIMEOUT\n",
    "###  OR USE A DIFFERENT NUMBER OF PARALLEL THREADS)\n",
    "asp_program = r\"\"\"\n",
    "#const t = 31.\n",
    "possible_time(1..t).\n",
    "{ time(T) : possible_time(T) }.\n",
    ":- not time(1).\n",
    ":- possible_time(T), possible_time(T+1), not time(T), time(T+1).\n",
    "max_time(MaxTime) :- MaxTime = #max { T : time(T) }.\n",
    "\n",
    "#const n = 9.\n",
    "token(1..n-1).\n",
    "location(1..n).\n",
    "position(1, 2).\n",
    "position(2, 3).\n",
    "position(3, 4).\n",
    "position(4, 5).\n",
    "position(5, 6).\n",
    "position(6, 7).\n",
    "position(7, 8).\n",
    "position(8, 9).\n",
    "\n",
    "action(transfer(Token, Location)) :- token(Token), location(Location).\n",
    "1 { do(T, A) : action(A) } 1 :- time(T), T < M, max_time(M).\n",
    "\n",
    "% Fluents\n",
    "fluent(position(Token, Location)) :- token(Token), location(Location).\n",
    "state(1, position(Token, Location)) :- position(Token, Location).\n",
    "make_true(T+1, position(Token, Location2)) :- do(T, transfer(Token, Location2)), state(T, position(Token, Location1)), Location1 != Location2.\n",
    "make_false(T+1, position(Token, Location1)) :- do(T, transfer(Token, Location2)), state(T, position(Token, Location1)), Location1 != Location2.\n",
    "state(T, Statement) :- time(T), fluent(Statement), state(T-1, Statement), not make_false(T, Statement).\n",
    "state(T, Statement) :- time(T), fluent(Statement), make_true(T, Statement).\n",
    "\n",
    "% No two tokens can be in the same location at the same time\n",
    ":- time(T), token(Token1), token(Token2), location(Location),\n",
    "    state(T, position(Token1, Location)), state(T, position(Token2, Location)), Token1 != Token2.\n",
    "% No token can be at two locations at the same time\n",
    ":- time(T), token(Token), location(Location1), location(Location2),\n",
    "    state(T, position(Token, Location1)), state(T, position(Token, Location2)), Location1 != Location2.\n",
    "\n",
    "% Define adjacent positions\n",
    "adjacent(1, 2).\n",
    "adjacent(1, 4).\n",
    "adjacent(2, 3).\n",
    "adjacent(2, 5).\n",
    "adjacent(3, 6).\n",
    "adjacent(4, 5).\n",
    "adjacent(4, 7).\n",
    "adjacent(5, 6).\n",
    "adjacent(5, 8).\n",
    "adjacent(6, 9).\n",
    "adjacent(7, 8).\n",
    "adjacent(8, 9).\n",
    "adjacent(Location1, Location2) :- adjacent(Location2, Location1).\n",
    "\n",
    "% You can only move to adjacent locations\n",
    ":- time(T), do(T, transfer(Token, Location1)), state(T, position(Token, Location2)), not adjacent(Location1, Location2).\n",
    "\n",
    "% goal\n",
    "goal_reached(T) :- time(T),\n",
    "    state(T, position(1, 9)),\n",
    "    state(T, position(2, 8)),\n",
    "    state(T, position(3, 7)),\n",
    "    state(T, position(4, 6)),\n",
    "    state(T, position(5, 5)),\n",
    "    state(T, position(6, 4)),\n",
    "    state(T, position(7, 3)),\n",
    "    state(T, position(8, 2)).\n",
    ":- max_time(M), not goal_reached(M).\n",
    "% Once we reached the goal, stop the clock!\n",
    ":- max_time(M), goal_reached(T), time(T), T < M.\n",
    "\n",
    "% Find the shortest sequence\n",
    "#minimize { 1, T : time(T) }.\n",
    "\"\"\"\n",
    "\n",
    "rest= \"\"\"\n",
    "\"\"\"\n",
    "\n",
    "show = \"\"\"\n",
    "#show do/2.\n",
    "\"\"\"\n",
    "\n",
    "print_answer_sets(asp_program + show)"
   ]
  }
 ],
 "metadata": {
  "kernelspec": {
   "display_name": "krr",
   "language": "python",
   "name": "python3"
  },
  "language_info": {
   "codemirror_mode": {
    "name": "ipython",
    "version": 3
   },
   "file_extension": ".py",
   "mimetype": "text/x-python",
   "name": "python",
   "nbconvert_exporter": "python",
   "pygments_lexer": "ipython3",
   "version": "3.9.16"
  },
  "vscode": {
   "interpreter": {
    "hash": "3c8a1bb16484524b64ebc80ed20664f091582a380568cefcff1d050292f48e2a"
   }
  }
 },
 "nbformat": 4,
 "nbformat_minor": 4
}
