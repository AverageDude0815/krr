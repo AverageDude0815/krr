{
 "cells": [
  {
   "attachments": {},
   "cell_type": "markdown",
   "metadata": {},
   "source": [
    "# Exercise 2.1"
   ]
  },
  {
   "cell_type": "code",
   "execution_count": 1,
   "metadata": {},
   "outputs": [],
   "source": [
    "import clingo"
   ]
  },
  {
   "cell_type": "code",
   "execution_count": 2,
   "metadata": {},
   "outputs": [],
   "source": [
    "def print_answer_sets(program):\n",
    "    # Load the answer set program, and call the grounder\n",
    "    control = clingo.Control()\n",
    "    control.add(\"base\", [], program)\n",
    "    control.ground([(\"base\", [])])\n",
    "    # Define a function that will be called when an answer set is found\n",
    "    # This function sorts the answer set alphabetically, and prints it\n",
    "    def on_model(model):\n",
    "        sorted_model = [str(atom) for atom in model.symbols(shown=True)]\n",
    "        sorted_model.sort()\n",
    "        print(\"Answer set: {{{}}}\".format(\", \".join(sorted_model)))\n",
    "    # Ask clingo to find all models (using an upper bound of 0 gives all models)\n",
    "    control.configuration.solve.models = 0\n",
    "    # Call the clingo solver, passing on the function on_model for when an answer set is found\n",
    "    answer = control.solve(on_model=on_model)\n",
    "    # Print a message when no answer set was found\n",
    "    if answer.satisfiable == False:\n",
    "        print(\"No answer sets\")"
   ]
  },
  {
   "attachments": {},
   "cell_type": "markdown",
   "metadata": {},
   "source": [
    "## Example specific to exercise"
   ]
  },
  {
   "cell_type": "code",
   "execution_count": 4,
   "metadata": {
    "scrolled": false
   },
   "outputs": [
    {
     "name": "stdout",
     "output_type": "stream",
     "text": [
      "Answer set: {c}\n",
      "Answer set: {c}\n"
     ]
    },
    {
     "name": "stderr",
     "output_type": "stream",
     "text": [
      "<block>:2:10-11: info: atom does not occur in any rule head:\n",
      "  b\n",
      "\n"
     ]
    }
   ],
   "source": [
    "P1 = \"\"\"\n",
    "    a :- b.\n",
    "    c.\n",
    "    \"\"\"\n",
    "\n",
    "P2 = \"\"\"\n",
    "    c.\n",
    "    \"\"\"\n",
    "\n",
    "\n",
    "print_answer_sets(P1)\n",
    "print_answer_sets(P2)"
   ]
  },
  {
   "cell_type": "code",
   "execution_count": 5,
   "metadata": {},
   "outputs": [
    {
     "name": "stdout",
     "output_type": "stream",
     "text": [
      "Answer set: {a, b, c}\n",
      "Answer set: {b, c}\n"
     ]
    }
   ],
   "source": [
    "P1 = \"\"\"\n",
    "    a :- b.\n",
    "    c.\n",
    "    b.\n",
    "    \"\"\"\n",
    "\n",
    "P2 = \"\"\"\n",
    "    c.\n",
    "    b.\n",
    "    \"\"\"\n",
    "\n",
    "\n",
    "print_answer_sets(P1)\n",
    "print_answer_sets(P2)"
   ]
  }
 ],
 "metadata": {
  "kernelspec": {
   "display_name": "krr",
   "language": "python",
   "name": "python3"
  },
  "language_info": {
   "codemirror_mode": {
    "name": "ipython",
    "version": 3
   },
   "file_extension": ".py",
   "mimetype": "text/x-python",
   "name": "python",
   "nbconvert_exporter": "python",
   "pygments_lexer": "ipython3",
   "version": "3.9.16"
  },
  "vscode": {
   "interpreter": {
    "hash": "3c8a1bb16484524b64ebc80ed20664f091582a380568cefcff1d050292f48e2a"
   }
  }
 },
 "nbformat": 4,
 "nbformat_minor": 4
}
