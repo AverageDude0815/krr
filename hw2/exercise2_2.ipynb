{
 "cells": [
  {
   "attachments": {},
   "cell_type": "markdown",
   "metadata": {},
   "source": [
    "# Exercise 2.2 - 2-dim packing"
   ]
  },
  {
   "cell_type": "code",
   "execution_count": 19,
   "metadata": {},
   "outputs": [],
   "source": [
    "import clingo"
   ]
  },
  {
   "cell_type": "code",
   "execution_count": 20,
   "metadata": {},
   "outputs": [],
   "source": [
    "def print_answer_sets(program):\n",
    "    # Load the answer set program, and call the grounder\n",
    "    control = clingo.Control()\n",
    "    control.add(\"base\", [], program)\n",
    "    control.ground([(\"base\", [])])\n",
    "    # Define a function that will be called when an answer set is found\n",
    "    # This function sorts the answer set alphabetically, and prints it\n",
    "    def on_model(model):\n",
    "        sorted_model = [str(atom) for atom in model.symbols(shown=True)]\n",
    "        sorted_model.sort()\n",
    "        print(\"Answer set: {{{}}}\".format(\", \".join(sorted_model)))\n",
    "    # Ask clingo to find all models (using an upper bound of 0 gives all models)\n",
    "    control.configuration.solve.models = 0\n",
    "    # Call the clingo solver, passing on the function on_model for when an answer set is found\n",
    "    answer = control.solve(on_model=on_model)\n",
    "    # Print a message when no answer set was found\n",
    "    if answer.satisfiable == False:\n",
    "        print(\"No answer sets\")"
   ]
  },
  {
   "attachments": {},
   "cell_type": "markdown",
   "metadata": {},
   "source": [
    "## Example specific to exercise"
   ]
  },
  {
   "cell_type": "code",
   "execution_count": 21,
   "metadata": {
    "scrolled": false
   },
   "outputs": [
    {
     "name": "stdout",
     "output_type": "stream",
     "text": [
      "Answer set: {corner(1,4,1), corner(2,1,4), corner(3,3,4), corner(4,1,1)}\n",
      "Answer set: {corner(1,4,1), corner(2,1,5), corner(3,3,4), corner(4,1,1)}\n",
      "Answer set: {corner(1,1,1), corner(2,1,4), corner(3,3,4), corner(4,2,1)}\n",
      "Answer set: {corner(1,1,2), corner(2,1,5), corner(3,3,4), corner(4,2,1)}\n",
      "Answer set: {corner(1,1,1), corner(2,1,5), corner(3,3,4), corner(4,2,1)}\n",
      "Answer set: {corner(1,1,3), corner(2,1,1), corner(3,3,1), corner(4,2,4)}\n",
      "Answer set: {corner(1,1,4), corner(2,1,1), corner(3,3,1), corner(4,2,4)}\n",
      "Answer set: {corner(1,1,4), corner(2,1,2), corner(3,3,1), corner(4,2,4)}\n",
      "Answer set: {corner(1,4,4), corner(2,1,1), corner(3,3,1), corner(4,1,4)}\n",
      "Answer set: {corner(1,4,4), corner(2,1,2), corner(3,3,1), corner(4,1,4)}\n",
      "Answer set: {corner(1,4,1), corner(2,3,5), corner(3,1,4), corner(4,1,1)}\n",
      "Answer set: {corner(1,4,2), corner(2,3,5), corner(3,1,4), corner(4,1,1)}\n",
      "Answer set: {corner(1,4,1), corner(2,3,4), corner(3,1,4), corner(4,1,1)}\n",
      "Answer set: {corner(1,1,1), corner(2,3,5), corner(3,1,4), corner(4,2,1)}\n",
      "Answer set: {corner(1,1,1), corner(2,3,4), corner(3,1,4), corner(4,2,1)}\n",
      "Answer set: {corner(1,1,4), corner(2,3,2), corner(3,1,1), corner(4,2,4)}\n",
      "Answer set: {corner(1,1,4), corner(2,3,1), corner(3,1,1), corner(4,2,4)}\n",
      "Answer set: {corner(1,4,4), corner(2,3,2), corner(3,1,1), corner(4,1,4)}\n",
      "Answer set: {corner(1,4,4), corner(2,3,1), corner(3,1,1), corner(4,1,4)}\n",
      "Answer set: {corner(1,4,3), corner(2,3,1), corner(3,1,1), corner(4,1,4)}\n"
     ]
    }
   ],
   "source": [
    "new_program = \"\"\"\n",
    "    #const h=4.\n",
    "    #const w=6.\n",
    "\n",
    "    #const h1=1.\n",
    "    #const w1=3.\n",
    "\n",
    "    #const h2=2.\n",
    "    #const w2=2.\n",
    "\n",
    "    #const h3=2.\n",
    "    #const w3=3.\n",
    "\n",
    "    #const h4=3.\n",
    "    #const w4=3.\n",
    "\n",
    "    1 { corner(1,1..h-h1+1,1..w-w1+1) } 1.\n",
    "    1 { corner(2,1..h-h2+1,1..w-w2+1) } 1.\n",
    "    1 { corner(3,1..h-h3+1,1..w-w3+1) } 1.\n",
    "    1 { corner(4,1..h-h4+1,1..w-w4+1) } 1.\n",
    "\n",
    "    square(1,X,Y) :- corner(1,X,Y).\n",
    "    square(1,X,Y+1) :- corner(1,X,Y).\n",
    "    square(1,X,Y+2) :- corner(1,X,Y).\n",
    "\n",
    "    square(2,X,Y) :- corner(2,X,Y).\n",
    "    square(2,X,Y+1) :- corner(2,X,Y).\n",
    "    square(2,X+1,Y) :- corner(2,X,Y).\n",
    "    square(2,X+1,Y+1) :- corner(2,X,Y).\n",
    "\n",
    "    square(3,X,Y) :- corner(3,X,Y).\n",
    "    square(3,X,Y+1) :- corner(3,X,Y).\n",
    "    square(3,X,Y+2) :- corner(3,X,Y).\n",
    "    square(3,X+1,Y) :- corner(3,X,Y).\n",
    "    square(3,X+1,Y+1) :- corner(3,X,Y).\n",
    "    square(3,X+1,Y+2) :- corner(3,X,Y).\n",
    "\n",
    "    square(4,X,Y) :- corner(4,X,Y).\n",
    "    square(4,X,Y+1) :- corner(4,X,Y).\n",
    "    square(4,X,Y+2) :- corner(4,X,Y).\n",
    "    square(4,X+1,Y) :- corner(4,X,Y).\n",
    "    square(4,X+1,Y+1) :- corner(4,X,Y).\n",
    "    square(4,X+1,Y+2) :- corner(4,X,Y).\n",
    "    square(4,X+2,Y) :- corner(4,X,Y).\n",
    "    square(4,X+2,Y+1) :- corner(4,X,Y).\n",
    "    square(4,X+2,Y+2) :- corner(4,X,Y).\n",
    "\n",
    "    :- square(K,X,w+1).\n",
    "    :- square(K,h+1,Y).\n",
    "    :- square(K,X,Y), square(L,X,Y), K < L.\n",
    "\n",
    "    #show corner/3.\n",
    "    \"\"\"\n",
    "\n",
    "\n",
    "print_answer_sets(new_program)"
   ]
  },
  {
   "attachments": {},
   "cell_type": "markdown",
   "metadata": {},
   "source": [
    "## Constructor for general problem"
   ]
  },
  {
   "cell_type": "code",
   "execution_count": 32,
   "metadata": {},
   "outputs": [
    {
     "name": "stdout",
     "output_type": "stream",
     "text": [
      "\n",
      "#const h=4.\n",
      "#const w=6.\n",
      "\n",
      "#const h1=1.\n",
      "#const w1=3.\n",
      "\n",
      "#const h2=2.\n",
      "#const w2=2.\n",
      "\n",
      "#const h3=2.\n",
      "#const w3=3.\n",
      "\n",
      "#const h4=3.\n",
      "#const w4=3.\n",
      "\n",
      " 1 { corner(1,1..h-h1+1,1..w-w1+1) } 1.\n",
      " 1 { corner(2,1..h-h2+1,1..w-w2+1) } 1.\n",
      " 1 { corner(3,1..h-h3+1,1..w-w3+1) } 1.\n",
      " 1 { corner(4,1..h-h4+1,1..w-w4+1) } 1.\n",
      "\n",
      " square(1,X+0,Y+0) :- corner(1,X,Y).\n",
      " square(1,X+0,Y+1) :- corner(1,X,Y).\n",
      " square(1,X+0,Y+2) :- corner(1,X,Y).\n",
      "\n",
      " square(2,X+0,Y+0) :- corner(2,X,Y).\n",
      " square(2,X+0,Y+1) :- corner(2,X,Y).\n",
      " square(2,X+1,Y+0) :- corner(2,X,Y).\n",
      " square(2,X+1,Y+1) :- corner(2,X,Y).\n",
      "\n",
      " square(3,X+0,Y+0) :- corner(3,X,Y).\n",
      " square(3,X+0,Y+1) :- corner(3,X,Y).\n",
      " square(3,X+0,Y+2) :- corner(3,X,Y).\n",
      " square(3,X+1,Y+0) :- corner(3,X,Y).\n",
      " square(3,X+1,Y+1) :- corner(3,X,Y).\n",
      " square(3,X+1,Y+2) :- corner(3,X,Y).\n",
      "\n",
      " square(4,X+0,Y+0) :- corner(4,X,Y).\n",
      " square(4,X+0,Y+1) :- corner(4,X,Y).\n",
      " square(4,X+0,Y+2) :- corner(4,X,Y).\n",
      " square(4,X+1,Y+0) :- corner(4,X,Y).\n",
      " square(4,X+1,Y+1) :- corner(4,X,Y).\n",
      " square(4,X+1,Y+2) :- corner(4,X,Y).\n",
      " square(4,X+2,Y+0) :- corner(4,X,Y).\n",
      " square(4,X+2,Y+1) :- corner(4,X,Y).\n",
      " square(4,X+2,Y+2) :- corner(4,X,Y).\n",
      "\n",
      ":- square(K,X,Y), square(L,X,Y), K < L.\n",
      ":- square(K,X,w+1).\n",
      ":- square(K,h+1,Y).\n",
      "\n",
      "#show corner/3.\n"
     ]
    }
   ],
   "source": [
    "def construct_program(w, h, rectangles, show_only_corner=True):\n",
    "    k = len(rectangles)\n",
    "    program_str = \"\"\n",
    "    program_str += f\"\\n#const h={h}.\"\n",
    "    program_str += f\"\\n#const w={w}.\"\n",
    "    program_str += \"\\n\"\n",
    "\n",
    "    for i, (h_, w_) in enumerate(rectangles):\n",
    "        # set constants\n",
    "        program_str += f\"\\n#const h{i+1}={h_}.\"\n",
    "        program_str += f\"\\n#const w{i+1}={w_}.\"\n",
    "        program_str += \"\\n\"\n",
    "\n",
    "    for i, (h_, w_) in enumerate(rectangles):\n",
    "        # place corner\n",
    "        program_str += f\"\\n 1 {{ corner({i+1},1..h-h{i+1}+1,1..w-w{i+1}+1) }} 1.\"\n",
    "    program_str += \"\\n\"\n",
    "\n",
    "    for i, (h_, w_) in enumerate(rectangles):\n",
    "        # fill squares from corner according to rectangle specifications\n",
    "        for j in range(0, h_):\n",
    "            for k in range(0, w_):\n",
    "                program_str += f\"\\n square({i+1},X+{j},Y+{k}) :- corner({i+1},X,Y).\"\n",
    "        program_str += \"\\n\"\n",
    "\n",
    "    # constraint square overlap\n",
    "    program_str += \"\\n:- square(K,X,Y), square(L,X,Y), K < L.\"\n",
    "\n",
    "    # constraint box overflow\n",
    "    program_str += \"\\n:- square(K,X,w+1).\\n:- square(K,h+1,Y).\"\n",
    "\n",
    "    if print_answer_sets:\n",
    "        program_str += \"\\n\\n#show corner/3.\"\n",
    "\n",
    "    return program_str\n",
    "\n",
    "constructed_program = construct_program(6, 4, rectangles=[(1, 3), (2, 2), (2, 3), (3, 3)])\n",
    "print(constructed_program)"
   ]
  },
  {
   "cell_type": "code",
   "execution_count": 35,
   "metadata": {},
   "outputs": [
    {
     "name": "stdout",
     "output_type": "stream",
     "text": [
      "Answer set: {corner(1,4,1), corner(2,1,4), corner(3,3,4), corner(4,1,1)}\n",
      "Answer set: {corner(1,4,1), corner(2,1,5), corner(3,3,4), corner(4,1,1)}\n",
      "Answer set: {corner(1,1,1), corner(2,1,4), corner(3,3,4), corner(4,2,1)}\n",
      "Answer set: {corner(1,1,2), corner(2,1,5), corner(3,3,4), corner(4,2,1)}\n",
      "Answer set: {corner(1,1,1), corner(2,1,5), corner(3,3,4), corner(4,2,1)}\n",
      "Answer set: {corner(1,1,3), corner(2,1,1), corner(3,3,1), corner(4,2,4)}\n",
      "Answer set: {corner(1,1,4), corner(2,1,1), corner(3,3,1), corner(4,2,4)}\n",
      "Answer set: {corner(1,1,4), corner(2,1,2), corner(3,3,1), corner(4,2,4)}\n",
      "Answer set: {corner(1,4,4), corner(2,1,1), corner(3,3,1), corner(4,1,4)}\n",
      "Answer set: {corner(1,4,4), corner(2,1,2), corner(3,3,1), corner(4,1,4)}\n",
      "Answer set: {corner(1,4,1), corner(2,3,5), corner(3,1,4), corner(4,1,1)}\n",
      "Answer set: {corner(1,4,2), corner(2,3,5), corner(3,1,4), corner(4,1,1)}\n",
      "Answer set: {corner(1,4,1), corner(2,3,4), corner(3,1,4), corner(4,1,1)}\n",
      "Answer set: {corner(1,1,1), corner(2,3,5), corner(3,1,4), corner(4,2,1)}\n",
      "Answer set: {corner(1,1,1), corner(2,3,4), corner(3,1,4), corner(4,2,1)}\n",
      "Answer set: {corner(1,1,4), corner(2,3,2), corner(3,1,1), corner(4,2,4)}\n",
      "Answer set: {corner(1,1,4), corner(2,3,1), corner(3,1,1), corner(4,2,4)}\n",
      "Answer set: {corner(1,4,4), corner(2,3,2), corner(3,1,1), corner(4,1,4)}\n",
      "Answer set: {corner(1,4,4), corner(2,3,1), corner(3,1,1), corner(4,1,4)}\n",
      "Answer set: {corner(1,4,3), corner(2,3,1), corner(3,1,1), corner(4,1,4)}\n"
     ]
    }
   ],
   "source": [
    "print_answer_sets(constructed_program)"
   ]
  },
  {
   "attachments": {},
   "cell_type": "markdown",
   "metadata": {},
   "source": [
    "## Let's check our code with some new problems"
   ]
  },
  {
   "cell_type": "code",
   "execution_count": 59,
   "metadata": {},
   "outputs": [
    {
     "name": "stdout",
     "output_type": "stream",
     "text": [
      "problem:  (2, 2, [(1, 1), (1, 1), (1, 2)])\n",
      "Answer set: {corner(1,1,1), corner(2,1,2), corner(3,2,1)}\n",
      "Answer set: {corner(1,1,2), corner(2,1,1), corner(3,2,1)}\n",
      "Answer set: {corner(1,2,1), corner(2,2,2), corner(3,1,1)}\n",
      "Answer set: {corner(1,2,2), corner(2,2,1), corner(3,1,1)}\n",
      "\n",
      "\n",
      "problem:  (6, 4, [(1, 3), (2, 3), (2, 3), (3, 3)])\n",
      "Answer set: {corner(1,4,1), corner(2,3,4), corner(3,1,4), corner(4,1,1)}\n",
      "Answer set: {corner(1,1,1), corner(2,3,4), corner(3,1,4), corner(4,2,1)}\n",
      "Answer set: {corner(1,4,4), corner(2,3,1), corner(3,1,1), corner(4,1,4)}\n",
      "Answer set: {corner(1,1,4), corner(2,3,1), corner(3,1,1), corner(4,2,4)}\n",
      "Answer set: {corner(1,4,1), corner(2,1,4), corner(3,3,4), corner(4,1,1)}\n",
      "Answer set: {corner(1,1,1), corner(2,1,4), corner(3,3,4), corner(4,2,1)}\n",
      "Answer set: {corner(1,4,4), corner(2,1,1), corner(3,3,1), corner(4,1,4)}\n",
      "Answer set: {corner(1,1,4), corner(2,1,1), corner(3,3,1), corner(4,2,4)}\n",
      "\n",
      "\n",
      "problem:  (6, 4, [(1, 4), (4, 2), (3, 4)])\n",
      "Answer set: {corner(1,1,1), corner(2,1,5), corner(3,2,1)}\n",
      "Answer set: {corner(1,1,3), corner(2,1,1), corner(3,2,3)}\n",
      "Answer set: {corner(1,4,1), corner(2,1,5), corner(3,1,1)}\n",
      "Answer set: {corner(1,4,3), corner(2,1,1), corner(3,1,3)}\n",
      "\n",
      "\n"
     ]
    }
   ],
   "source": [
    "# commented out are trivial cases you can use for edge case testing\n",
    "problems = [\n",
    "    (2, 2, [(1, 1), (1, 1), (1, 2)]),\n",
    "    #(2, 2, [(3, 2)]),\n",
    "    #(2, 2, [(2, 2)]),\n",
    "    #(2, 2, [(1, 1), (1, 1), (2, 2)]),\n",
    "    (6, 4, [(1, 3), (2, 3), (2, 3), (3, 3)]),\n",
    "    (6, 4, [(1, 4), (4, 2), (3, 4)])\n",
    "    ]\n",
    "\n",
    "for problem in problems:\n",
    "    print('problem: ', problem)\n",
    "    print_answer_sets(construct_program(*problem))\n",
    "    print(\"\\n\")"
   ]
  }
 ],
 "metadata": {
  "kernelspec": {
   "display_name": "krr",
   "language": "python",
   "name": "python3"
  },
  "language_info": {
   "codemirror_mode": {
    "name": "ipython",
    "version": 3
   },
   "file_extension": ".py",
   "mimetype": "text/x-python",
   "name": "python",
   "nbconvert_exporter": "python",
   "pygments_lexer": "ipython3",
   "version": "3.9.16"
  },
  "vscode": {
   "interpreter": {
    "hash": "3c8a1bb16484524b64ebc80ed20664f091582a380568cefcff1d050292f48e2a"
   }
  }
 },
 "nbformat": 4,
 "nbformat_minor": 4
}
